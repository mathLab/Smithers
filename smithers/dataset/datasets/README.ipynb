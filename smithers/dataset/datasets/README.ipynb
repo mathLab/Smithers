{
 "cells": [
  {
   "cell_type": "markdown",
   "id": "613646ed",
   "metadata": {},
   "source": [
    "# Smithers overview"
   ]
  },
  {
   "cell_type": "markdown",
   "id": "f20c636c",
   "metadata": {},
   "source": [
    "[**Smithers**](https://github.com/mathLab/Smithers) is developed by **SISSA mathlab** and it contains some useful datasets and a multi-purpose toolbox that inherits functionality from other packages to make the process of dealing with these datasets much easier with more compact coding.\n",
    "\n",
    "The package can be installed using:\n",
    "\n",
    "```bash\n",
    "> python -m pip install smithers -U \n",
    "```"
   ]
  },
  {
   "cell_type": "markdown",
   "id": "9da1c4ea",
   "metadata": {},
   "source": [
    "# Navier Stokes Dataset \n",
    "\n",
    "**Navier Stokes Dataset** contains the output data from a CFD simulation described by the (incompressible) Navier Stokes equations.\n",
    "\n",
    "In the following steps we will explore the attributes of the `NavierStokesDataset()` class:\n",
    "- `.snapshots`: the matrices of snapshots stored by row (one matrix for any output field).\n",
    "- `.params`: the matrix of corresponding parameters.\n",
    "- `.pts_coordinates`: the coordinates of all nodes of the discretize space.\n",
    "- `.faces`: the actual topology of the discretized space.\n",
    "- `.triang`: the triangulation, useful especially for rendering purposes. \n"
   ]
  },
  {
   "cell_type": "markdown",
   "id": "63c68f57",
   "metadata": {},
   "source": [
    "## Import the dataset:"
   ]
  },
  {
   "cell_type": "code",
   "execution_count": 1,
   "id": "59ebcefe",
   "metadata": {},
   "outputs": [],
   "source": [
    "from smithers.dataset import NavierStokesDataset\n",
    "data = NavierStokesDataset()"
   ]
  },
  {
   "cell_type": "markdown",
   "id": "be9bb185",
   "metadata": {},
   "source": [
    "## Exploring the snapshots:\n",
    "\n",
    "`data.snapshots` returns a dictionary with 4 keys (physical properties) which are:\n",
    "- **vx:** velocity in the X-direction. \n",
    "- **vy:** velocity in the Y-direction. \n",
    "- **mag(v):** velocity magnitude.\n",
    "- **p:** pressure value.\n",
    "\n",
    "For each physical property (key) there is a 2-D array of the shape (500,1639):\n",
    "- Each row of the 500 represents a snapshot.\n",
    "- Each snapshot/row contains the values of a particular physical property at 1639 nodes/elements (since the data is from FE analysis)."
   ]
  },
  {
   "cell_type": "code",
   "execution_count": 2,
   "id": "7e63d27e",
   "metadata": {},
   "outputs": [
    {
     "data": {
      "text/plain": [
       "dict"
      ]
     },
     "execution_count": 2,
     "metadata": {},
     "output_type": "execute_result"
    }
   ],
   "source": [
    "type(data.snapshots)"
   ]
  },
  {
   "cell_type": "code",
   "execution_count": 3,
   "id": "431d2a98",
   "metadata": {},
   "outputs": [
    {
     "data": {
      "text/plain": [
       "4"
      ]
     },
     "execution_count": 3,
     "metadata": {},
     "output_type": "execute_result"
    }
   ],
   "source": [
    "len(data.snapshots)"
   ]
  },
  {
   "cell_type": "code",
   "execution_count": 4,
   "id": "08a51300",
   "metadata": {},
   "outputs": [
    {
     "data": {
      "text/plain": [
       "dict_keys(['vx', 'vy', 'mag(v)', 'p'])"
      ]
     },
     "execution_count": 4,
     "metadata": {},
     "output_type": "execute_result"
    }
   ],
   "source": [
    "data.snapshots.keys()"
   ]
  },
  {
   "cell_type": "code",
   "execution_count": 5,
   "id": "75a52f24",
   "metadata": {},
   "outputs": [
    {
     "data": {
      "text/plain": [
       "numpy.ndarray"
      ]
     },
     "execution_count": 5,
     "metadata": {},
     "output_type": "execute_result"
    }
   ],
   "source": [
    "type(data.snapshots['vx'])"
   ]
  },
  {
   "cell_type": "code",
   "execution_count": 6,
   "id": "c34d931b",
   "metadata": {},
   "outputs": [
    {
     "data": {
      "text/plain": [
       "(500, 1639)"
      ]
     },
     "execution_count": 6,
     "metadata": {},
     "output_type": "execute_result"
    }
   ],
   "source": [
    "data.snapshots['vx'].shape"
   ]
  },
  {
   "cell_type": "markdown",
   "id": "a39b78c6",
   "metadata": {},
   "source": [
    "## Exploring the parameters:\n",
    "\n",
    "`data.params` returns a 2-D array of the shape (500,1).\n",
    "\n",
    "We have only one parameter which is the inlet velocity that corresponds to the 500 snapshots. "
   ]
  },
  {
   "cell_type": "code",
   "execution_count": 7,
   "id": "cdf54666",
   "metadata": {},
   "outputs": [
    {
     "data": {
      "text/plain": [
       "numpy.ndarray"
      ]
     },
     "execution_count": 7,
     "metadata": {},
     "output_type": "execute_result"
    }
   ],
   "source": [
    "type(data.params)"
   ]
  },
  {
   "cell_type": "code",
   "execution_count": 8,
   "id": "e5cbed60",
   "metadata": {},
   "outputs": [
    {
     "data": {
      "text/plain": [
       "(500, 1)"
      ]
     },
     "execution_count": 8,
     "metadata": {},
     "output_type": "execute_result"
    }
   ],
   "source": [
    "data.params.shape"
   ]
  },
  {
   "cell_type": "markdown",
   "id": "4fb4377f",
   "metadata": {},
   "source": [
    "## Exploring the coordinates of the points:\n",
    "\n",
    "We can understand from below that this data is the result of a 2-D finite element simulation (2 rows = 2 coordinates) with 1639 elements/points. "
   ]
  },
  {
   "cell_type": "code",
   "execution_count": 9,
   "id": "21955183",
   "metadata": {},
   "outputs": [
    {
     "data": {
      "text/plain": [
       "numpy.ndarray"
      ]
     },
     "execution_count": 9,
     "metadata": {},
     "output_type": "execute_result"
    }
   ],
   "source": [
    "type(data.pts_coordinates)"
   ]
  },
  {
   "cell_type": "code",
   "execution_count": 10,
   "id": "acaa1769",
   "metadata": {},
   "outputs": [
    {
     "data": {
      "text/plain": [
       "(2, 1639)"
      ]
     },
     "execution_count": 10,
     "metadata": {},
     "output_type": "execute_result"
    }
   ],
   "source": [
    "data.pts_coordinates.shape"
   ]
  },
  {
   "cell_type": "markdown",
   "id": "56d1600e",
   "metadata": {},
   "source": [
    "## Exploring the topology of the discretized space:\n",
    "\n",
    "We can see here that we have 3091 cells, where each cell is composed of 3 points (triangular cells).\n",
    "\n",
    "By having:\n",
    "1. `data.faces` --> For each triangle, they are the indices of the three points that make up the triangle.\n",
    "2. `data.pts_coordinates` --> X and Y coordinates of the grid points.\n",
    "\n",
    "We can construct the triangular grid: `Triangulation(x, y, triangles=data.faces)`\n",
    "\n",
    "In this case, thanks to **Smithers**, we can call the triangular grid directly using `data.triang`"
   ]
  },
  {
   "cell_type": "code",
   "execution_count": 11,
   "id": "f8721dc7",
   "metadata": {},
   "outputs": [
    {
     "data": {
      "text/plain": [
       "numpy.ndarray"
      ]
     },
     "execution_count": 11,
     "metadata": {},
     "output_type": "execute_result"
    }
   ],
   "source": [
    "type(data.faces)"
   ]
  },
  {
   "cell_type": "code",
   "execution_count": 12,
   "id": "b8e552ea",
   "metadata": {},
   "outputs": [
    {
     "data": {
      "text/plain": [
       "(3091, 3)"
      ]
     },
     "execution_count": 12,
     "metadata": {},
     "output_type": "execute_result"
    }
   ],
   "source": [
    "data.faces.shape"
   ]
  },
  {
   "cell_type": "code",
   "execution_count": 13,
   "id": "87ccf2b3",
   "metadata": {},
   "outputs": [
    {
     "data": {
      "text/plain": [
       "matplotlib.tri.triangulation.Triangulation"
      ]
     },
     "execution_count": 13,
     "metadata": {},
     "output_type": "execute_result"
    }
   ],
   "source": [
    "type(data.triang)"
   ]
  },
  {
   "cell_type": "markdown",
   "id": "9e15f425",
   "metadata": {},
   "source": [
    "## Visualization:\n",
    "Visualize some of the snapshots in the dataset."
   ]
  },
  {
   "cell_type": "code",
   "execution_count": 14,
   "id": "91b28473",
   "metadata": {},
   "outputs": [
    {
     "name": "stdout",
     "output_type": "stream",
     "text": [
      "Shape of vx      snapshots matrix: (500, 1639)\n",
      "Shape of vy      snapshots matrix: (500, 1639)\n",
      "Shape of p       snapshots matrix: (500, 1639)\n",
      "Shape of mag(v)  snapshots matrix: (500, 1639)\n",
      "Shape of parameters matrix: (500, 1)\n"
     ]
    }
   ],
   "source": [
    "for name in ['vx', 'vy', 'p', 'mag(v)']:\n",
    "    print('Shape of {:7s} snapshots matrix: {}'.format(name, data.snapshots[name].shape))\n",
    "    \n",
    "print('Shape of parameters matrix: {}'.format(data.params.shape))"
   ]
  },
  {
   "cell_type": "code",
   "execution_count": 15,
   "id": "6c242e19",
   "metadata": {},
   "outputs": [],
   "source": [
    "import matplotlib.tri as mtri\n",
    "import matplotlib.pyplot as plt\n",
    "%matplotlib inline\n",
    "plt.rcParams['figure.facecolor'] = 'white'"
   ]
  },
  {
   "cell_type": "code",
   "execution_count": 16,
   "id": "51130ff5",
   "metadata": {},
   "outputs": [
    {
     "data": {
      "image/png": "[encoded data removed]",
      "text/plain": [
       "<Figure size 1152x576 with 9 Axes>"
      ]
     },
     "metadata": {},
     "output_type": "display_data"
    }
   ],
   "source": [
    "fig, ax = plt.subplots(nrows=3, ncols=3, figsize=(16, 8))\n",
    "ax = ax.flatten()\n",
    "for i in range(9):\n",
    "    ax[i].set_title('Original snapshot at inlet velocity = {}'.format(*data.params[i].round(2)))\n",
    "    ax[i].tricontourf(data.triang, data.snapshots['vx'][i], levels=16)\n",
    "\n",
    "# plt.savefig('demo.png', facecolor='white', edgecolor='white')\n",
    "plt.tight_layout()\n",
    "plt.savefig('demo.png')"
   ]
  },
  {
   "cell_type": "markdown",
   "id": "9865aeae",
   "metadata": {},
   "source": [
    "Try also:\n",
    "```python\n",
    "ax[i].tricontour(data.triang, data.snapshots['vx'][i], levels=16)\n",
    "\n",
    "ax[i].tripcolor(data.triang, data.snapshots['vx'][i])\n",
    "\n",
    "ax[i].triplot(data.triang, 'b-', lw=0.2)\n",
    "```"
   ]
  },
  {
   "cell_type": "markdown",
   "id": "107030d1",
   "metadata": {},
   "source": [
    "**In future we will add further description for the other datasets in Smithers.**"
   ]
  }
 ],
 "metadata": {
  "hide_input": false,
  "kernelspec": {
   "display_name": "Python 3 (ipykernel)",
   "language": "python",
   "name": "python3"
  },
  "language_info": {
   "codemirror_mode": {
    "name": "ipython",
    "version": 3
   },
   "file_extension": ".py",
   "mimetype": "text/x-python",
   "name": "python",
   "nbconvert_exporter": "python",
   "pygments_lexer": "ipython3",
   "version": "3.8.12"
  },
  "latex_envs": {
   "LaTeX_envs_menu_present": true,
   "autoclose": false,
   "autocomplete": true,
   "bibliofile": "biblio.bib",
   "cite_by": "apalike",
   "current_citInitial": 1,
   "eqLabelWithNumbers": true,
   "eqNumInitial": 1,
   "hotkeys": {
    "equation": "Ctrl-E",
    "itemize": "Ctrl-I"
   },
   "labels_anchors": false,
   "latex_user_defs": false,
   "report_style_numbering": false,
   "user_envs_cfg": false
  },
  "toc": {
   "base_numbering": "1",
   "nav_menu": {},
   "number_sections": true,
   "sideBar": true,
   "skip_h1_title": false,
   "title_cell": "Table of Contents",
   "title_sidebar": "Contents",
   "toc_cell": false,
   "toc_position": {
    "height": "533.6px",
    "left": "27px",
    "top": "111.125px",
    "width": "383.917px"
   },
   "toc_section_display": true,
   "toc_window_display": true
  },
  "varInspector": {
   "cols": {
    "lenName": 16,
    "lenType": 16,
    "lenVar": 40
   },
   "kernels_config": {
    "python": {
     "delete_cmd_postfix": "",
     "delete_cmd_prefix": "del ",
     "library": "var_list.py",
     "varRefreshCmd": "print(var_dic_list())"
    },
    "r": {
     "delete_cmd_postfix": ") ",
     "delete_cmd_prefix": "rm(",
     "library": "var_list.r",
     "varRefreshCmd": "cat(var_dic_list()) "
    }
   },
   "position": {
    "height": "305.844px",
    "left": "1553px",
    "right": "20px",
    "top": "120px",
    "width": "347px"
   },
   "types_to_exclude": [
    "module",
    "function",
    "builtin_function_or_method",
    "instance",
    "_Feature"
   ],
   "window_display": false
  }
 },
 "nbformat": 4,
 "nbformat_minor": 5
}
